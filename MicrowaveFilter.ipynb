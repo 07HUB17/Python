{
  "nbformat": 4,
  "nbformat_minor": 0,
  "metadata": {
    "colab": {
      "provenance": [],
      "authorship_tag": "ABX9TyPrD9IycQpsLy83S9YtJr4J",
      "include_colab_link": true
    },
    "kernelspec": {
      "name": "python3",
      "display_name": "Python 3"
    },
    "language_info": {
      "name": "python"
    }
  },
  "cells": [
    {
      "cell_type": "markdown",
      "metadata": {
        "id": "view-in-github",
        "colab_type": "text"
      },
      "source": [
        "<a href=\"https://colab.research.google.com/github/07HUB17/Python/blob/main/MicrowaveFilter.ipynb\" target=\"_parent\"><img src=\"https://colab.research.google.com/assets/colab-badge.svg\" alt=\"Open In Colab\"/></a>"
      ]
    },
    {
      "cell_type": "markdown",
      "source": [
        "#Microwave Filterの解析"
      ],
      "metadata": {
        "id": "-TJpqQYfzJAB"
      }
    },
    {
      "cell_type": "code",
      "execution_count": 56,
      "metadata": {
        "id": "BNyiupkpzARE"
      },
      "outputs": [],
      "source": [
        "#import\n",
        "import numpy as np\n",
        "import math\n",
        "from matplotlib import pyplot as plt\n",
        "\n",
        "#param\n",
        "f0=3\n",
        "df=0.1\n",
        "fbw=df/f0\n",
        "N=3\n",
        "Lar=1\n",
        "f_num=1000\n",
        "f=np.linspace(2,4,f_num)"
      ]
    },
    {
      "cell_type": "code",
      "source": [
        "#配列初期化\n",
        "\n",
        "g_parameter = [0]*(N+2)"
      ],
      "metadata": {
        "id": "3nuyNXgI8dtf"
      },
      "execution_count": 57,
      "outputs": []
    },
    {
      "cell_type": "code",
      "source": [
        "# g param (chevichef)\n",
        "beta=math.log(1/np.tanh(Lar/17.37))\n",
        "gammma=np.sinh(beta/2/N)\n",
        "\n",
        "g_parameter[0]=1.0    #g0\n",
        "g_parameter[1]=2/gammma*np.sin(math.pi/2/N)   #g1\n",
        "\n",
        "for i in range(2,N+1):\n",
        "  g_parameter[i]=1/g_parameter[i-1]*4*np.sin((2*i-1)*math.pi/(2*N))*np.sin((2*i-3)*math.pi/(2*N)) \\\n",
        "  /(pow(gammma,2)+pow(np.sin((i-1)*math.pi/N),2))\n",
        "\n",
        "if N%2==0:\n",
        "  g_parameter[N+1]=pow(1/np.tanh(beta/4),2)\n",
        "elif N%2==1.0:\n",
        "  g_parameter[N+1]=1\n",
        "\n",
        "print(g_parameter)\n"
      ],
      "metadata": {
        "id": "8FjTrBgSzIrV",
        "colab": {
          "base_uri": "https://localhost:8080/"
        },
        "outputId": "d609e212-979b-45bf-8dc8-39bd5be3e465"
      },
      "execution_count": 58,
      "outputs": [
        {
          "output_type": "stream",
          "name": "stdout",
          "text": [
            "[1.0, 2.023670448787969, 0.9940829985672592, 2.023670448787968, 1]\n"
          ]
        }
      ]
    },
    {
      "cell_type": "code",
      "source": [
        "#coupling matrix\n",
        "M=np.zeros((N+2,N+2))\n",
        "M[0][1]=M[1][0]=1/math.sqrt(g_parameter[0]*g_parameter[1])\n",
        "for i in range(1,N):\n",
        "   M[i][i+1]=M[i+1][i]=1/math.sqrt(g_parameter[i]*g_parameter[i+1])\n",
        "M[N][N+1]=M[N+1][N]=1/math.sqrt(g_parameter[N]*g_parameter[N+1])\n",
        "print(M)\n",
        "\n"
      ],
      "metadata": {
        "id": "yFKTtzh_Qeta",
        "colab": {
          "base_uri": "https://localhost:8080/"
        },
        "outputId": "21cbdc32-313d-4032-ef7d-14e015183a25"
      },
      "execution_count": 59,
      "outputs": [
        {
          "output_type": "stream",
          "name": "stdout",
          "text": [
            "[[0.         0.70295918 0.         0.         0.        ]\n",
            " [0.70295918 0.         0.70504816 0.         0.        ]\n",
            " [0.         0.70504816 0.         0.70504816 0.        ]\n",
            " [0.         0.         0.70504816 0.         0.70295918]\n",
            " [0.         0.         0.         0.70295918 0.        ]]\n"
          ]
        }
      ]
    },
    {
      "cell_type": "code",
      "source": [
        "Z=np.zeros((N+2,N+2))\n",
        "R=np.zeros((N+2,N+2))\n",
        "U=np.zeros((N+2,N+2))\n",
        "\n",
        "omega=(f/f0-f0/f)/fbw\n",
        "S11=np.zeros(f_num)\n",
        "S21=np.zeros(f_num)\n",
        "\n",
        "R[0][0]=R[N+1][N+1]=1\n",
        "for i in range(1,N+1):\n",
        "   U[i][i]=1\n",
        "\n",
        "for omegac in range(1,f_num+1):\n",
        "  Z_array=R+1j*omega[omegac-1]*U+1j*M\n",
        "  Z_inv=np.linalg.inv(Z_array)\n",
        "  S11[omegac-1]=abs(1-2*Z_inv[0][0])\n",
        "  S21[omegac-1]=abs(2*Z_inv[N+1][0])"
      ],
      "metadata": {
        "id": "cFjkw2jCfKBT"
      },
      "execution_count": 60,
      "outputs": []
    },
    {
      "cell_type": "code",
      "source": [
        "plt.plot(f, 20*np.log10((S11)),f, 20*np.log10((S21)))"
      ],
      "metadata": {
        "colab": {
          "base_uri": "https://localhost:8080/",
          "height": 467
        },
        "id": "O6he_agu2QFL",
        "outputId": "dd3c94c2-11f8-4980-c9ae-37bd9d9ecb01"
      },
      "execution_count": 61,
      "outputs": [
        {
          "output_type": "execute_result",
          "data": {
            "text/plain": [
              "[<matplotlib.lines.Line2D at 0x7e94db619690>,\n",
              " <matplotlib.lines.Line2D at 0x7e94db61a350>]"
            ]
          },
          "metadata": {},
          "execution_count": 61
        },
        {
          "output_type": "display_data",
          "data": {
            "text/plain": [
              "<Figure size 640x480 with 1 Axes>"
            ],
            "image/png": "[encoded data removed]"
          },
          "metadata": {}
        }
      ]
    },
    {
      "cell_type": "code",
      "source": [
        "#coupling factor mij\n",
        "m_coupling_factor=np.zeros((N+2,N+2))\n",
        "m_coupling_factor=fbw*M[1:N+1,1:N+1]\n",
        "Qes=1/pow(M[0][1],2)/fbw\n",
        "Qel=1/pow(M[N+1][N],2)/fbw\n",
        "print(Qes)\n",
        "print(Qel)\n",
        "print(m_coupling_factor)\n",
        "\n",
        "fp2=2.03\n",
        "fp1=1.98\n",
        "\n",
        "m_coupling_factor_sim=(fp2**2-fp1**2)/(fp2**2+fp1**2)\n",
        "m_coupling_factor_sim\n",
        "\n",
        "f0_sim=2\n",
        "f1=1.983\n",
        "f2=2.027\n",
        "df_sim=f2-f1\n",
        "Qes=f0_sim/df_sim\n",
        "print(Qes)"
      ],
      "metadata": {
        "colab": {
          "base_uri": "https://localhost:8080/"
        },
        "id": "CbEldFkRVXs_",
        "outputId": "2a913953-208b-4c9b-d323-a0234d8de706"
      },
      "execution_count": 62,
      "outputs": [
        {
          "output_type": "stream",
          "name": "stdout",
          "text": [
            "60.710113463639075\n",
            "60.71011346363903\n",
            "[[0.         0.02350161 0.        ]\n",
            " [0.02350161 0.         0.02350161]\n",
            " [0.         0.02350161 0.        ]]\n",
            "45.45454545454542\n"
          ]
        }
      ]
    },
    {
      "cell_type": "code",
      "source": [],
      "metadata": {
        "id": "5I8UVbJ3uaqD"
      },
      "execution_count": null,
      "outputs": []
    }
  ]
}