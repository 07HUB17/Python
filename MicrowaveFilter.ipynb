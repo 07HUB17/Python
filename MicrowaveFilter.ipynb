{
  "nbformat": 4,
  "nbformat_minor": 0,
  "metadata": {
    "colab": {
      "provenance": [],
      "authorship_tag": "ABX9TyPdlsdiCdDCMrwEyQs+pd4i",
      "include_colab_link": true
    },
    "kernelspec": {
      "name": "python3",
      "display_name": "Python 3"
    },
    "language_info": {
      "name": "python"
    }
  },
  "cells": [
    {
      "cell_type": "markdown",
      "metadata": {
        "id": "view-in-github",
        "colab_type": "text"
      },
      "source": [
        "<a href=\"https://colab.research.google.com/github/07HUB17/Python/blob/main/MicrowaveFilter.ipynb\" target=\"_parent\"><img src=\"https://colab.research.google.com/assets/colab-badge.svg\" alt=\"Open In Colab\"/></a>"
      ]
    },
    {
      "cell_type": "markdown",
      "source": [
        "#Microwave Filterの解析"
      ],
      "metadata": {
        "id": "-TJpqQYfzJAB"
      }
    },
    {
      "cell_type": "code",
      "execution_count": 7,
      "metadata": {
        "id": "BNyiupkpzARE"
      },
      "outputs": [],
      "source": [
        "#import\n",
        "import numpy as np\n",
        "import math\n",
        "from matplotlib import pyplot as plt\n",
        "\n",
        "#param\n",
        "f0=2\n",
        "df=0.05\n",
        "fbw=df/f0\n",
        "N=3\n",
        "Lar=0.1"
      ]
    },
    {
      "cell_type": "code",
      "source": [
        "#配列初期化\n",
        "\n",
        "g_parameter = [0]*(N+2)"
      ],
      "metadata": {
        "id": "3nuyNXgI8dtf"
      },
      "execution_count": 8,
      "outputs": []
    },
    {
      "cell_type": "code",
      "source": [
        "# g param (chevichef)\n",
        "beta=math.log(1/np.tanh(Lar/17.37))\n",
        "gammma=np.sinh(beta/2/N)\n",
        "\n",
        "g_parameter[0]=1.0    #g0\n",
        "g_parameter[1]=2/gammma*np.sin(math.pi/2/N)   #g1\n",
        "\n",
        "for i in range(2,N+1):\n",
        "  g_parameter[i]=1/g_parameter[i-1]*4*np.sin((2*i-1)*math.pi/(2*N))*np.sin((2*i-3)*math.pi/(2*N)) \\\n",
        "  /(pow(gammma,2)+pow(np.sin((i-1)*math.pi/N),2))\n",
        "\n",
        "if N%2==0:\n",
        "  g_parameter[N+1]=pow(1/np.tanh(beta/4),2)\n",
        "elif N%2==1.0:\n",
        "  g_parameter[N+1]=1\n",
        "\n",
        "print(g_parameter)\n"
      ],
      "metadata": {
        "id": "8FjTrBgSzIrV",
        "colab": {
          "base_uri": "https://localhost:8080/"
        },
        "outputId": "617bb8ff-9bfe-492a-fc57-319b8049d31c"
      },
      "execution_count": 9,
      "outputs": [
        {
          "output_type": "stream",
          "name": "stdout",
          "text": [
            "[1.0, 1.031585142507876, 1.147400329953722, 1.031585142507876, 1]\n"
          ]
        }
      ]
    },
    {
      "cell_type": "code",
      "source": [
        "#coupling matrix\n",
        "M=np.zeros((N+2,N+2))\n",
        "M[0][1]=M[1][0]=1/math.sqrt(g_parameter[0]*g_parameter[1])\n",
        "for i in range(1,N):\n",
        "   M[i][i+1]=M[i+1][i]=1/math.sqrt(g_parameter[i]*g_parameter[i+1])\n",
        "M[N][N+1]=M[N+1][N]=1/math.sqrt(g_parameter[N]*g_parameter[N+1])\n",
        "print(M)\n",
        "\n"
      ],
      "metadata": {
        "id": "yFKTtzh_Qeta",
        "colab": {
          "base_uri": "https://localhost:8080/"
        },
        "outputId": "00aece83-00be-4ba2-9a49-3807d5b5df4b"
      },
      "execution_count": 10,
      "outputs": [
        {
          "output_type": "stream",
          "name": "stdout",
          "text": [
            "[[0.         0.98457195 0.         0.         0.        ]\n",
            " [0.98457195 0.         0.91915759 0.         0.        ]\n",
            " [0.         0.91915759 0.         0.91915759 0.        ]\n",
            " [0.         0.         0.91915759 0.         0.98457195]\n",
            " [0.         0.         0.         0.98457195 0.        ]]\n"
          ]
        }
      ]
    },
    {
      "cell_type": "markdown",
      "source": [],
      "metadata": {
        "id": "PdH47yvR91h1"
      }
    },
    {
      "cell_type": "code",
      "source": [
        "#coupling factor mij\n",
        "m_coupling_factor=np.zeros((N+2,N+2))\n",
        "m_coupling_factor=fbw*M[1:N+1,1:N+1]\n",
        "Qes=1/pow(M[0][1],2)/fbw\n",
        "Qel=1/pow(M[N+1][N],2)/fbw\n",
        "print(Qes)\n",
        "print(Qel)\n",
        "print(m_coupling_factor)\n"
      ],
      "metadata": {
        "colab": {
          "base_uri": "https://localhost:8080/"
        },
        "id": "CTyVynZMW7FY",
        "outputId": "40ea2a92-a407-4869-8079-f7101aacb98d"
      },
      "execution_count": 11,
      "outputs": [
        {
          "output_type": "stream",
          "name": "stdout",
          "text": [
            "41.26340570031503\n",
            "41.26340570031503\n",
            "[[0.         0.02297894 0.        ]\n",
            " [0.02297894 0.         0.02297894]\n",
            " [0.         0.02297894 0.        ]]\n"
          ]
        }
      ]
    },
    {
      "cell_type": "code",
      "source": [],
      "metadata": {
        "id": "Jn8xeC3dYg3l"
      },
      "execution_count": 11,
      "outputs": []
    },
    {
      "cell_type": "code",
      "source": [
        "fp2=2.03\n",
        "fp1=1.98\n",
        "\n",
        "m_coupling_factor_sim=(fp2**2-fp1**2)/(fp2**2+fp1**2)\n",
        "m_coupling_factor_sim"
      ],
      "metadata": {
        "colab": {
          "base_uri": "https://localhost:8080/"
        },
        "id": "E6STN0YcbBvQ",
        "outputId": "8b05a8fa-3eed-4475-d2b1-a049eb23be85"
      },
      "execution_count": 12,
      "outputs": [
        {
          "output_type": "execute_result",
          "data": {
            "text/plain": [
              "0.024933779364033057"
            ]
          },
          "metadata": {},
          "execution_count": 12
        }
      ]
    },
    {
      "cell_type": "code",
      "source": [
        "f0_sim=2\n",
        "f1=1.983\n",
        "f2=2.027\n",
        "df_sim=f2-f1\n",
        "Qes=f0_sim/df_sim\n",
        "print(Qes)"
      ],
      "metadata": {
        "colab": {
          "base_uri": "https://localhost:8080/"
        },
        "id": "z8uTvLyNbBZj",
        "outputId": "b4ad2829-dcc1-495d-e8d7-43a0a1972d4b"
      },
      "execution_count": 13,
      "outputs": [
        {
          "output_type": "stream",
          "name": "stdout",
          "text": [
            "45.45454545454542\n"
          ]
        }
      ]
    },
    {
      "cell_type": "code",
      "source": [
        "Z=np.zeros((N+2,N+2))\n",
        "R=np.zeros((N+2,N+2))\n",
        "U=np.zeros((N+2,N+2))\n",
        "R[0][0]=R[N+1][N+1]=1\n",
        "for i in range(1,N+1):\n",
        "   U[i][i]=1\n",
        "Z=R+1j*U+1j*M"
      ],
      "metadata": {
        "id": "cFjkw2jCfKBT"
      },
      "execution_count": 22,
      "outputs": []
    },
    {
      "cell_type": "code",
      "source": [
        "print(R)\n",
        "print(U)\n",
        "print(Z)"
      ],
      "metadata": {
        "colab": {
          "base_uri": "https://localhost:8080/"
        },
        "id": "kpY4_Y3GtVjM",
        "outputId": "b7f33537-5575-4171-fecf-e2cd43a087b3"
      },
      "execution_count": 23,
      "outputs": [
        {
          "output_type": "stream",
          "name": "stdout",
          "text": [
            "[[1. 0. 0. 0. 0.]\n",
            " [0. 0. 0. 0. 0.]\n",
            " [0. 0. 0. 0. 0.]\n",
            " [0. 0. 0. 0. 0.]\n",
            " [0. 0. 0. 0. 1.]]\n",
            "[[0. 0. 0. 0. 0.]\n",
            " [0. 1. 0. 0. 0.]\n",
            " [0. 0. 1. 0. 0.]\n",
            " [0. 0. 0. 1. 0.]\n",
            " [0. 0. 0. 0. 0.]]\n",
            "[[1.+0.j         0.+0.98457195j 0.+0.j         0.+0.j\n",
            "  0.+0.j        ]\n",
            " [0.+0.98457195j 0.+1.j         0.+0.91915759j 0.+0.j\n",
            "  0.+0.j        ]\n",
            " [0.+0.j         0.+0.91915759j 0.+1.j         0.+0.91915759j\n",
            "  0.+0.j        ]\n",
            " [0.+0.j         0.+0.j         0.+0.91915759j 0.+1.j\n",
            "  0.+0.98457195j]\n",
            " [0.+0.j         0.+0.j         0.+0.j         0.+0.98457195j\n",
            "  1.+0.j        ]]\n"
          ]
        }
      ]
    },
    {
      "cell_type": "code",
      "source": [],
      "metadata": {
        "id": "VrokL9motb98"
      },
      "execution_count": null,
      "outputs": []
    }
  ]
}